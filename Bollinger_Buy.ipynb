{
  "nbformat": 4,
  "nbformat_minor": 0,
  "metadata": {
    "colab": {
      "name": "Bollinger-Buy.ipynb",
      "provenance": [],
      "collapsed_sections": [],
      "authorship_tag": "ABX9TyNs1YvnuirR2WpA0GxVJrn9",
      "include_colab_link": true
    },
    "kernelspec": {
      "name": "python3",
      "display_name": "Python 3"
    }
  },
  "cells": [
    {
      "cell_type": "markdown",
      "metadata": {
        "id": "view-in-github",
        "colab_type": "text"
      },
      "source": [
        "<a href=\"https://colab.research.google.com/github/RaulMrSouza/Bollinger-Buy/blob/master/Bollinger_Buy.ipynb\" target=\"_parent\"><img src=\"https://colab.research.google.com/assets/colab-badge.svg\" alt=\"Open In Colab\"/></a>"
      ]
    },
    {
      "cell_type": "code",
      "metadata": {
        "id": "KA-gEb_nhjWy",
        "colab_type": "code",
        "colab": {}
      },
      "source": [
        "import pandas as pd\n",
        "import datetime\n",
        "import pandas_datareader.data as web\n",
        "from pandas import DataFrame\n",
        "from datetime import date, timedelta\n",
        "import numpy as np"
      ],
      "execution_count": 0,
      "outputs": []
    },
    {
      "cell_type": "code",
      "metadata": {
        "id": "eRPb6C3C3bw3",
        "colab_type": "code",
        "outputId": "6b81fad1-6cc3-4b30-f104-94ba072149ba",
        "colab": {
          "base_uri": "https://localhost:8080/",
          "height": 235
        }
      },
      "source": [
        "df = web.DataReader('SUZB3.SA', 'yahoo', date.today() - timedelta(days=360), date.today())\n",
        "df.tail()"
      ],
      "execution_count": 9,
      "outputs": [
        {
          "output_type": "execute_result",
          "data": {
            "text/html": [
              "<div>\n",
              "<style scoped>\n",
              "    .dataframe tbody tr th:only-of-type {\n",
              "        vertical-align: middle;\n",
              "    }\n",
              "\n",
              "    .dataframe tbody tr th {\n",
              "        vertical-align: top;\n",
              "    }\n",
              "\n",
              "    .dataframe thead th {\n",
              "        text-align: right;\n",
              "    }\n",
              "</style>\n",
              "<table border=\"1\" class=\"dataframe\">\n",
              "  <thead>\n",
              "    <tr style=\"text-align: right;\">\n",
              "      <th></th>\n",
              "      <th>High</th>\n",
              "      <th>Low</th>\n",
              "      <th>Open</th>\n",
              "      <th>Close</th>\n",
              "      <th>Volume</th>\n",
              "      <th>Adj Close</th>\n",
              "    </tr>\n",
              "    <tr>\n",
              "      <th>Date</th>\n",
              "      <th></th>\n",
              "      <th></th>\n",
              "      <th></th>\n",
              "      <th></th>\n",
              "      <th></th>\n",
              "      <th></th>\n",
              "    </tr>\n",
              "  </thead>\n",
              "  <tbody>\n",
              "    <tr>\n",
              "      <th>2020-05-12</th>\n",
              "      <td>49.480000</td>\n",
              "      <td>46.610001</td>\n",
              "      <td>48.200001</td>\n",
              "      <td>48.549999</td>\n",
              "      <td>8104600.0</td>\n",
              "      <td>48.549999</td>\n",
              "    </tr>\n",
              "    <tr>\n",
              "      <th>2020-05-13</th>\n",
              "      <td>51.200001</td>\n",
              "      <td>48.669998</td>\n",
              "      <td>49.080002</td>\n",
              "      <td>50.590000</td>\n",
              "      <td>11670500.0</td>\n",
              "      <td>50.590000</td>\n",
              "    </tr>\n",
              "    <tr>\n",
              "      <th>2020-05-14</th>\n",
              "      <td>51.150002</td>\n",
              "      <td>46.549999</td>\n",
              "      <td>51.000000</td>\n",
              "      <td>47.540001</td>\n",
              "      <td>12031000.0</td>\n",
              "      <td>47.540001</td>\n",
              "    </tr>\n",
              "    <tr>\n",
              "      <th>2020-05-15</th>\n",
              "      <td>48.840000</td>\n",
              "      <td>44.029999</td>\n",
              "      <td>46.400002</td>\n",
              "      <td>45.029999</td>\n",
              "      <td>19162600.0</td>\n",
              "      <td>45.029999</td>\n",
              "    </tr>\n",
              "    <tr>\n",
              "      <th>2020-05-18</th>\n",
              "      <td>45.220001</td>\n",
              "      <td>42.500000</td>\n",
              "      <td>44.799999</td>\n",
              "      <td>42.599998</td>\n",
              "      <td>6447400.0</td>\n",
              "      <td>42.599998</td>\n",
              "    </tr>\n",
              "  </tbody>\n",
              "</table>\n",
              "</div>"
            ],
            "text/plain": [
              "                 High        Low       Open      Close      Volume  Adj Close\n",
              "Date                                                                         \n",
              "2020-05-12  49.480000  46.610001  48.200001  48.549999   8104600.0  48.549999\n",
              "2020-05-13  51.200001  48.669998  49.080002  50.590000  11670500.0  50.590000\n",
              "2020-05-14  51.150002  46.549999  51.000000  47.540001  12031000.0  47.540001\n",
              "2020-05-15  48.840000  44.029999  46.400002  45.029999  19162600.0  45.029999\n",
              "2020-05-18  45.220001  42.500000  44.799999  42.599998   6447400.0  42.599998"
            ]
          },
          "metadata": {
            "tags": []
          },
          "execution_count": 9
        }
      ]
    },
    {
      "cell_type": "code",
      "metadata": {
        "id": "UadvzsMLE4rA",
        "colab_type": "code",
        "colab": {}
      },
      "source": [
        "#Calculate Bollinger Bands Values\n",
        "df['20 Day MA'] = df['Close'].rolling(window=20).mean()\n",
        "df['20 Day STD'] = df['Close'].rolling(window=20).std() \n",
        "    \n",
        "df['Upper'] = df['20 Day MA'] + (df['20 Day STD'] * 2)\n",
        "df['Lower'] = df['20 Day MA'] - (df['20 Day STD'] * 2)"
      ],
      "execution_count": 0,
      "outputs": []
    },
    {
      "cell_type": "code",
      "metadata": {
        "id": "pLNB5FpWtdVA",
        "colab_type": "code",
        "colab": {}
      },
      "source": [
        "df = df[20:]\n",
        "#Set the buy and sell conditions\n",
        "df['B'] =  ((df['Close'] >=  df['Lower']) & (df['Close'] >  df['Open']) & (df['Close'].shift(periods=1) <  df['Open'].shift(periods=1)) & (df['Close'].shift(periods=1) <  df['Lower'].shift(periods=1))  & (df['Volume'] > df['Volume'].shift(periods=1) )) \n",
        "df = df.assign(Buy=np.where(df['B'] , df['Close'], float(\"NaN\")))\n",
        "\n",
        "df['S'] =  ((df['Close'] <=  df['Upper']) & (df['Close'] <=  df['Open']) & (df['Close'].shift(periods=1) >  df['Open'].shift(periods=1)) & (df['Close'].shift(periods=1) >  df['Upper'].shift(periods=1))  & (df['Volume'] > df['Volume'].shift(periods=1) )) \n",
        "df = df.assign(Sell=np.where(df['S'] , df['Close'], float(\"NaN\")))"
      ],
      "execution_count": 0,
      "outputs": []
    },
    {
      "cell_type": "code",
      "metadata": {
        "id": "8jhg8VEpwX7I",
        "colab_type": "code",
        "colab": {}
      },
      "source": [
        "%matplotlib inline\n",
        "import matplotlib.pyplot as plt\n",
        "from matplotlib import style\n",
        "\n",
        "# Adjusting the size of matplotlib\n",
        "import matplotlib as mpl\n",
        "mpl.rc('figure', figsize=(15, 12))"
      ],
      "execution_count": 0,
      "outputs": []
    },
    {
      "cell_type": "markdown",
      "metadata": {
        "id": "rFqHaPlA4srF",
        "colab_type": "text"
      },
      "source": [
        "Buy on the <font color='blue'>*Blue*</font> dot and stop operation on the <font color='red'>*Red*</font> dot, assuming markets usually are bullish\n",
        "\n",
        "Comprar no ponto <font color='blue'>*Azul*</font> e sair da operação no <font color='red'>*Vermelho*</font>, considerando que mercados normalmente se valorizam"
      ]
    },
    {
      "cell_type": "code",
      "metadata": {
        "id": "3qnZ6dBP4rPn",
        "colab_type": "code",
        "outputId": "ddcca0a4-49d2-4656-b0bd-734db3c9cce4",
        "colab": {
          "base_uri": "https://localhost:8080/",
          "height": 686
        }
      },
      "source": [
        "df['Buy'].plot(label='Buy', linestyle='--', marker='o', color='b')\n",
        "df['Sell'].plot(label='Sell', linestyle='--', marker='o', color='r')\n",
        "df['Close'].plot(label='Close', color='g')"
      ],
      "execution_count": 13,
      "outputs": [
        {
          "output_type": "execute_result",
          "data": {
            "text/plain": [
              "<matplotlib.axes._subplots.AxesSubplot at 0x7f1296283a58>"
            ]
          },
          "metadata": {
            "tags": []
          },
          "execution_count": 13
        },
        {
          "output_type": "display_data",
          "data": {
            "image/png": "[encoded data removed]",
            "text/plain": [
              "<Figure size 1080x864 with 1 Axes>"
            ]
          },
          "metadata": {
            "tags": [],
            "needs_background": "light"
          }
        }
      ]
    },
    {
      "cell_type": "code",
      "metadata": {
        "id": "W7a7zkQMfb99",
        "colab_type": "code",
        "colab": {
          "base_uri": "https://localhost:8080/",
          "height": 142
        },
        "outputId": "a208c041-d894-4918-d772-75e546198c1c"
      },
      "source": [
        "#set the operations result dataframe\n",
        "op = df[df['B'] | df['S']]\n",
        "op = op[op['B'] | op['B'].shift(periods=1)]\n",
        "op = pd.concat([op, df.tail(1)])\n",
        "op = op[op['B'] != op['B'].shift(periods=1)]\n",
        "op['Date'] = op.index\n",
        "op['BuyDate'] = op['Date'].shift(periods=1)\n",
        "op['BuyValue'] = op['Close'].shift(periods=1)\n",
        "op = op.assign(Result=np.where( op['B'] == False & op['B'].shift(periods=1), round(op['Close'] - op['Close'].shift(periods=1), 2), 0))\n",
        "op = op.rename(columns={'Date':'StopDate', 'Close' : 'StopValue'})\n",
        "op = op[op['B'] == False]\n",
        "op[['BuyValue', 'BuyDate', 'StopValue' , 'StopDate', 'Result']]"
      ],
      "execution_count": 51,
      "outputs": [
        {
          "output_type": "execute_result",
          "data": {
            "text/html": [
              "<div>\n",
              "<style scoped>\n",
              "    .dataframe tbody tr th:only-of-type {\n",
              "        vertical-align: middle;\n",
              "    }\n",
              "\n",
              "    .dataframe tbody tr th {\n",
              "        vertical-align: top;\n",
              "    }\n",
              "\n",
              "    .dataframe thead th {\n",
              "        text-align: right;\n",
              "    }\n",
              "</style>\n",
              "<table border=\"1\" class=\"dataframe\">\n",
              "  <thead>\n",
              "    <tr style=\"text-align: right;\">\n",
              "      <th></th>\n",
              "      <th>BuyValue</th>\n",
              "      <th>BuyDate</th>\n",
              "      <th>StopValue</th>\n",
              "      <th>StopDate</th>\n",
              "      <th>Result</th>\n",
              "    </tr>\n",
              "    <tr>\n",
              "      <th>Date</th>\n",
              "      <th></th>\n",
              "      <th></th>\n",
              "      <th></th>\n",
              "      <th></th>\n",
              "      <th></th>\n",
              "    </tr>\n",
              "  </thead>\n",
              "  <tbody>\n",
              "    <tr>\n",
              "      <th>2019-12-18</th>\n",
              "      <td>28.52</td>\n",
              "      <td>2019-08-27</td>\n",
              "      <td>39.570000</td>\n",
              "      <td>2019-12-18</td>\n",
              "      <td>11.05</td>\n",
              "    </tr>\n",
              "    <tr>\n",
              "      <th>2020-05-14</th>\n",
              "      <td>27.33</td>\n",
              "      <td>2020-03-19</td>\n",
              "      <td>47.540001</td>\n",
              "      <td>2020-05-14</td>\n",
              "      <td>20.21</td>\n",
              "    </tr>\n",
              "  </tbody>\n",
              "</table>\n",
              "</div>"
            ],
            "text/plain": [
              "            BuyValue    BuyDate  StopValue   StopDate  Result\n",
              "Date                                                         \n",
              "2019-12-18     28.52 2019-08-27  39.570000 2019-12-18   11.05\n",
              "2020-05-14     27.33 2020-03-19  47.540001 2020-05-14   20.21"
            ]
          },
          "metadata": {
            "tags": []
          },
          "execution_count": 51
        }
      ]
    }
  ]
}